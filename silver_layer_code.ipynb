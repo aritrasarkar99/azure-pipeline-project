{
 "cells": [
  {
   "cell_type": "code",
   "execution_count": 0,
   "metadata": {
    "application/vnd.databricks.v1+cell": {
     "cellMetadata": {
      "byteLimit": 2048000,
      "rowLimit": 10000
     },
     "inputWidgets": {},
     "nuid": "5ea4379f-0c1b-484b-a31d-d0798b98574c",
     "showTitle": false,
     "tableResultSettingsMap": {},
     "title": ""
    }
   },
   "outputs": [],
   "source": [
    "from pyspark.sql.functions import *\n",
    "from pyspark.sql.types import * \n",
    "from datetime import datetime"
   ]
  },
  {
   "cell_type": "markdown",
   "metadata": {
    "application/vnd.databricks.v1+cell": {
     "cellMetadata": {},
     "inputWidgets": {},
     "nuid": "1f8413a0-4f1c-4659-a0f2-4fd2bfb967a9",
     "showTitle": false,
     "tableResultSettingsMap": {},
     "title": ""
    }
   },
   "source": [
    "# SILVER LAYER"
   ]
  },
  {
   "cell_type": "markdown",
   "metadata": {
    "application/vnd.databricks.v1+cell": {
     "cellMetadata": {},
     "inputWidgets": {},
     "nuid": "408aa915-8f15-4b85-b289-14dabeecd3bd",
     "showTitle": false,
     "tableResultSettingsMap": {},
     "title": ""
    }
   },
   "source": [
    "## DATA ACCESS USING APP"
   ]
  },
  {
   "cell_type": "code",
   "execution_count": 0,
   "metadata": {
    "application/vnd.databricks.v1+cell": {
     "cellMetadata": {
      "byteLimit": 2048000,
      "rowLimit": 10000
     },
     "inputWidgets": {},
     "nuid": "bc9f7e74-9a61-410f-a2f5-5acba878f4c2",
     "showTitle": false,
     "tableResultSettingsMap": {},
     "title": ""
    }
   },
   "outputs": [],
   "source": [
    "\n",
    "spark.conf.set(\"fs.azure.account.auth.type.awprojectadls.dfs.core.windows.net\", \"OAuth\")\n",
    "spark.conf.set(\"fs.azure.account.oauth.provider.type.awprojectadls.dfs.core.windows.net\", \"org.apache.hadoop.fs.azurebfs.oauth2.ClientCredsTokenProvider\")\n",
    "spark.conf.set(\"fs.azure.account.oauth2.client.id.awprojectadls.dfs.core.windows.net\", \"\")\n",
    "spark.conf.set(\"fs.azure.account.oauth2.client.secret.awprojectadls.dfs.core.windows.net\", \"\")\n",
    "spark.conf.set(\"fs.azure.account.oauth2.client.endpoint.awprojectadls.dfs.core.windows.net\", \"https://login.microsoftonline.com/<directory-id>/oauth2/token\")\n"
   ]
  },
  {
   "cell_type": "code",
   "execution_count": 0,
   "metadata": {
    "application/vnd.databricks.v1+cell": {
     "cellMetadata": {
      "byteLimit": 2048000,
      "rowLimit": 10000
     },
     "inputWidgets": {},
     "nuid": "533866af-574f-4aca-b725-0c9c64bf77b1",
     "showTitle": false,
     "tableResultSettingsMap": {},
     "title": ""
    }
   },
   "outputs": [
    {
     "data": {
      "text/plain": [
       "[FileInfo(path='abfss://bronze@awprojectadls.dfs.core.windows.net/AdventureWorks_Calendar/', name='AdventureWorks_Calendar/', size=0, modificationTime=1734115973000),\n",
       " FileInfo(path='abfss://bronze@awprojectadls.dfs.core.windows.net/AdventureWorks_Customers/', name='AdventureWorks_Customers/', size=0, modificationTime=1734115986000),\n",
       " FileInfo(path='abfss://bronze@awprojectadls.dfs.core.windows.net/AdventureWorks_Product_Categories/', name='AdventureWorks_Product_Categories/', size=0, modificationTime=1734115959000),\n",
       " FileInfo(path='abfss://bronze@awprojectadls.dfs.core.windows.net/AdventureWorks_Products/', name='AdventureWorks_Products/', size=0, modificationTime=1734116014000),\n",
       " FileInfo(path='abfss://bronze@awprojectadls.dfs.core.windows.net/AdventureWorks_Returns/', name='AdventureWorks_Returns/', size=0, modificationTime=1734116027000),\n",
       " FileInfo(path='abfss://bronze@awprojectadls.dfs.core.windows.net/AdventureWorks_Sales_2015/', name='AdventureWorks_Sales_2015/', size=0, modificationTime=1734116043000),\n",
       " FileInfo(path='abfss://bronze@awprojectadls.dfs.core.windows.net/AdventureWorks_Sales_2016/', name='AdventureWorks_Sales_2016/', size=0, modificationTime=1734116059000),\n",
       " FileInfo(path='abfss://bronze@awprojectadls.dfs.core.windows.net/AdventureWorks_Sales_2017/', name='AdventureWorks_Sales_2017/', size=0, modificationTime=1734116073000),\n",
       " FileInfo(path='abfss://bronze@awprojectadls.dfs.core.windows.net/AdventureWorks_Territories/', name='AdventureWorks_Territories/', size=0, modificationTime=1734116092000),\n",
       " FileInfo(path='abfss://bronze@awprojectadls.dfs.core.windows.net/Product_Subcategories/', name='Product_Subcategories/', size=0, modificationTime=1734115998000)]"
      ]
     },
     "execution_count": 4,
     "metadata": {},
     "output_type": "execute_result"
    }
   ],
   "source": [
    "dbutils.fs.ls(\"abfss://bronze@awprojectadls.dfs.core.windows.net/\")"
   ]
  },
  {
   "cell_type": "markdown",
   "metadata": {
    "application/vnd.databricks.v1+cell": {
     "cellMetadata": {},
     "inputWidgets": {},
     "nuid": "963d13a6-d3fa-4f71-886a-044a3631a432",
     "showTitle": false,
     "tableResultSettingsMap": {},
     "title": ""
    }
   },
   "source": [
    "## DATA LOADING "
   ]
  },
  {
   "cell_type": "code",
   "execution_count": 0,
   "metadata": {
    "application/vnd.databricks.v1+cell": {
     "cellMetadata": {
      "byteLimit": 2048000,
      "rowLimit": 10000
     },
     "inputWidgets": {},
     "nuid": "adf7dadc-35a2-4ef8-aed9-8b383a9c7b31",
     "showTitle": false,
     "tableResultSettingsMap": {},
     "title": ""
    }
   },
   "outputs": [
    {
     "data": {
      "text/html": [
       "<style scoped>\n",
       "  .table-result-container {\n",
       "    max-height: 300px;\n",
       "    overflow: auto;\n",
       "  }\n",
       "  table, th, td {\n",
       "    border: 1px solid black;\n",
       "    border-collapse: collapse;\n",
       "  }\n",
       "  th, td {\n",
       "    padding: 5px;\n",
       "  }\n",
       "  th {\n",
       "    text-align: left;\n",
       "  }\n",
       "</style><div class='table-result-container'><table class='table-result'><thead style='background-color: white'><tr><th>customer_id</th><th>first_name</th><th>last_name</th><th>email</th><th>street</th><th>city</th><th>state</th><th>country</th></tr></thead><tbody><tr><td>0</td><td>Jessica</td><td>Meyer</td><td>wesleyfuller@example.com</td><td>56370 White Harbor Suite 295</td><td>North Keith</td><td>Idaho</td><td>India</td></tr><tr><td>1</td><td>Aritra</td><td>Perry</td><td>aritra@example.net</td><td>192 Aguilar Alley</td><td>Stephaniehaven</td><td>Kolkata</td><td>Austria</td></tr><tr><td>2</td><td>Mike</td><td>Smith</td><td>zthomas@example.com</td><td>63075 Lee Knolls</td><td>South Glenn</td><td>Ohio</td><td>Slovenia</td></tr><tr><td>3</td><td>Michael</td><td>Holloway</td><td>qweber@example.net</td><td>8201 Martinez Springs Suite 705</td><td>Smithshire</td><td>Texas</td><td>Belize</td></tr><tr><td>4</td><td>Dalton</td><td>Gordon</td><td>pollardzachary@example.net</td><td>0188 Holly Brook Apt. 409</td><td>North Jeffreymouth</td><td>Montana</td><td>Paraguay</td></tr><tr><td>5</td><td>Joseph</td><td>Johnson</td><td>yquinn@example.com</td><td>86472 Wilkerson Row</td><td>Douglasstad</td><td>Nebraska</td><td>Georgia</td></tr><tr><td>6</td><td>Pamela</td><td>Lewis</td><td>qmcdonald@example.org</td><td>29526 Brett Drives</td><td>Evansstad</td><td>Tennessee</td><td>Portugal</td></tr><tr><td>7</td><td>Tracy</td><td>Lewis</td><td>charles14@example.net</td><td>8871 Thompson Glen</td><td>Port Nichole</td><td>Pennsylvania</td><td>Chad</td></tr><tr><td>8</td><td>Nathaniel</td><td>Allen</td><td>blakesmith@example.org</td><td>714 Goodman Islands</td><td>Patriciatown</td><td>Montana</td><td>Guyana</td></tr><tr><td>9</td><td>Linda</td><td>Morales</td><td>matthewsoto@example.net</td><td>54303 Brown Terrace Suite 203</td><td>South Ryanhaven</td><td>California</td><td>Sao Tome and Principe</td></tr><tr><td>10</td><td>Jill</td><td>Archer</td><td>gshelton@example.org</td><td>5226 Benjamin Gardens Suite 496</td><td>Rodriguezchester</td><td>Louisiana</td><td>United States Minor Outlying Islands</td></tr><tr><td>11</td><td>Anthony</td><td>Nguyen</td><td>lorihernandez@example.com</td><td>935 Ali Stream</td><td>Jonesfurt</td><td>Michigan</td><td>United States Virgin Islands</td></tr><tr><td>12</td><td>Tina</td><td>Orozco</td><td>paige40@example.com</td><td>023 Jennifer Flat Suite 520</td><td>Nataliestad</td><td>North Dakota</td><td>Antigua and Barbuda</td></tr><tr><td>13</td><td>Derrick</td><td>Hernandez</td><td>markdavis@example.net</td><td>7816 Pollard Plaza</td><td>Snyderton</td><td>Indiana</td><td>Montenegro</td></tr><tr><td>14</td><td>Robert</td><td>Bullock</td><td>steve11@example.org</td><td>495 Fitzgerald Landing</td><td>Angelaport</td><td>Arizona</td><td>Argentina</td></tr><tr><td>15</td><td>Joshua</td><td>Strickland</td><td>jeremy31@example.net</td><td>6834 Davis Plain Apt. 773</td><td>West James</td><td>Nebraska</td><td>Pakistan</td></tr><tr><td>16</td><td>Laura</td><td>Nash</td><td>stacybarrett@example.net</td><td>2012 Melissa Harbors Apt. 009</td><td>Thompsonshire</td><td>Montana</td><td>Oman</td></tr><tr><td>17</td><td>James</td><td>Hughes</td><td>stephaniehardin@example.net</td><td>418 David Shoals</td><td>Lutztown</td><td>Virginia</td><td>Kenya</td></tr><tr><td>18</td><td>William</td><td>Carter</td><td>hbird@example.net</td><td>60105 Perkins Trafficway</td><td>North Rebecca</td><td>Texas</td><td>Swaziland</td></tr><tr><td>19</td><td>Lawrence</td><td>Jackson</td><td>ellisvanessa@example.net</td><td>065 Heather Underpass Suite 383</td><td>New Dianachester</td><td>Massachusetts</td><td>Nicaragua</td></tr><tr><td>20</td><td>Marie</td><td>Benson</td><td>cwalls@example.net</td><td>415 Moore Street Apt. 715</td><td>Brandontown</td><td>Maryland</td><td>Canada</td></tr></tbody></table></div>"
      ]
     },
     "metadata": {
      "application/vnd.databricks.v1+output": {
       "addedWidgets": {},
       "aggData": [],
       "aggError": "",
       "aggOverflow": false,
       "aggSchema": [],
       "aggSeriesLimitReached": false,
       "aggType": "",
       "arguments": {},
       "columnCustomDisplayInfos": {},
       "data": [
        [
         0,
         "Jessica",
         "Meyer",
         "wesleyfuller@example.com",
         "56370 White Harbor Suite 295",
         "North Keith",
         "Idaho",
         "India"
        ],
        [
         1,
         "Aritra",
         "Perry",
         "aritra@example.net",
         "192 Aguilar Alley",
         "Stephaniehaven",
         "Kolkata",
         "Austria"
        ],
        [
         2,
         "Mike",
         "Smith",
         "zthomas@example.com",
         "63075 Lee Knolls",
         "South Glenn",
         "Ohio",
         "Slovenia"
        ],
        [
         3,
         "Michael",
         "Holloway",
         "qweber@example.net",
         "8201 Martinez Springs Suite 705",
         "Smithshire",
         "Texas",
         "Belize"
        ],
        [
         4,
         "Dalton",
         "Gordon",
         "pollardzachary@example.net",
         "0188 Holly Brook Apt. 409",
         "North Jeffreymouth",
         "Montana",
         "Paraguay"
        ],
        [
         5,
         "Joseph",
         "Johnson",
         "yquinn@example.com",
         "86472 Wilkerson Row",
         "Douglasstad",
         "Nebraska",
         "Georgia"
        ],
        [
         6,
         "Pamela",
         "Lewis",
         "qmcdonald@example.org",
         "29526 Brett Drives",
         "Evansstad",
         "Tennessee",
         "Portugal"
        ],
        [
         7,
         "Tracy",
         "Lewis",
         "charles14@example.net",
         "8871 Thompson Glen",
         "Port Nichole",
         "Pennsylvania",
         "Chad"
        ],
        [
         8,
         "Nathaniel",
         "Allen",
         "blakesmith@example.org",
         "714 Goodman Islands",
         "Patriciatown",
         "Montana",
         "Guyana"
        ],
        [
         9,
         "Linda",
         "Morales",
         "matthewsoto@example.net",
         "54303 Brown Terrace Suite 203",
         "South Ryanhaven",
         "California",
         "Sao Tome and Principe"
        ],
        [
         10,
         "Jill",
         "Archer",
         "gshelton@example.org",
         "5226 Benjamin Gardens Suite 496",
         "Rodriguezchester",
         "Louisiana",
         "United States Minor Outlying Islands"
        ],
        [
         11,
         "Anthony",
         "Nguyen",
         "lorihernandez@example.com",
         "935 Ali Stream",
         "Jonesfurt",
         "Michigan",
         "United States Virgin Islands"
        ],
        [
         12,
         "Tina",
         "Orozco",
         "paige40@example.com",
         "023 Jennifer Flat Suite 520",
         "Nataliestad",
         "North Dakota",
         "Antigua and Barbuda"
        ],
        [
         13,
         "Derrick",
         "Hernandez",
         "markdavis@example.net",
         "7816 Pollard Plaza",
         "Snyderton",
         "Indiana",
         "Montenegro"
        ],
        [
         14,
         "Robert",
         "Bullock",
         "steve11@example.org",
         "495 Fitzgerald Landing",
         "Angelaport",
         "Arizona",
         "Argentina"
        ],
        [
         15,
         "Joshua",
         "Strickland",
         "jeremy31@example.net",
         "6834 Davis Plain Apt. 773",
         "West James",
         "Nebraska",
         "Pakistan"
        ],
        [
         16,
         "Laura",
         "Nash",
         "stacybarrett@example.net",
         "2012 Melissa Harbors Apt. 009",
         "Thompsonshire",
         "Montana",
         "Oman"
        ],
        [
         17,
         "James",
         "Hughes",
         "stephaniehardin@example.net",
         "418 David Shoals",
         "Lutztown",
         "Virginia",
         "Kenya"
        ],
        [
         18,
         "William",
         "Carter",
         "hbird@example.net",
         "60105 Perkins Trafficway",
         "North Rebecca",
         "Texas",
         "Swaziland"
        ],
        [
         19,
         "Lawrence",
         "Jackson",
         "ellisvanessa@example.net",
         "065 Heather Underpass Suite 383",
         "New Dianachester",
         "Massachusetts",
         "Nicaragua"
        ],
        [
         20,
         "Marie",
         "Benson",
         "cwalls@example.net",
         "415 Moore Street Apt. 715",
         "Brandontown",
         "Maryland",
         "Canada"
        ]
       ],
       "datasetInfos": [],
       "dbfsResultPath": null,
       "isJsonSchema": true,
       "metadata": {},
       "overflow": false,
       "plotOptions": {
        "customPlotOptions": {},
        "displayType": "table",
        "pivotAggregation": null,
        "pivotColumns": null,
        "xColumns": null,
        "yColumns": null
       },
       "removedWidgets": [],
       "schema": [
        {
         "metadata": "{}",
         "name": "customer_id",
         "type": "\"integer\""
        },
        {
         "metadata": "{}",
         "name": "first_name",
         "type": "\"string\""
        },
        {
         "metadata": "{}",
         "name": "last_name",
         "type": "\"string\""
        },
        {
         "metadata": "{}",
         "name": "email",
         "type": "\"string\""
        },
        {
         "metadata": "{}",
         "name": "street",
         "type": "\"string\""
        },
        {
         "metadata": "{}",
         "name": "city",
         "type": "\"string\""
        },
        {
         "metadata": "{}",
         "name": "state",
         "type": "\"string\""
        },
        {
         "metadata": "{}",
         "name": "country",
         "type": "\"string\""
        }
       ],
       "type": "table"
      }
     },
     "output_type": "display_data"
    }
   ],
   "source": [
    "\n",
    "df = spark.read.format(\"csv\").option(\"header\", \"true\").option(\"inferSchema\", \"true\").load(\"abfss://azure-project@awprojectadls.dfs.core.windows.net/raw-data\")\n",
    "\n",
    "# display(df)\n"
   ]
  },
  {
   "cell_type": "markdown",
   "metadata": {
    "application/vnd.databricks.v1+cell": {
     "cellMetadata": {
      "byteLimit": 2048000,
      "rowLimit": 10000
     },
     "inputWidgets": {},
     "nuid": "415a6943-c6b6-46fe-adfd-4682cbcb5980",
     "showTitle": false,
     "tableResultSettingsMap": {},
     "title": ""
    }
   },
   "source": [
    "\n",
    "## TRANSFORMATION"
   ]
  },
  {
   "cell_type": "code",
   "execution_count": 0,
   "metadata": {
    "application/vnd.databricks.v1+cell": {
     "cellMetadata": {
      "byteLimit": 2048000,
      "rowLimit": 10000
     },
     "inputWidgets": {},
     "nuid": "b92b732d-73ec-4acc-9eb2-7c4f8ef002d9",
     "showTitle": false,
     "tableResultSettingsMap": {},
     "title": ""
    }
   },
   "outputs": [
    {
     "data": {
      "text/html": [
       "<style scoped>\n",
       "  .table-result-container {\n",
       "    max-height: 300px;\n",
       "    overflow: auto;\n",
       "  }\n",
       "  table, th, td {\n",
       "    border: 1px solid black;\n",
       "    border-collapse: collapse;\n",
       "  }\n",
       "  th, td {\n",
       "    padding: 5px;\n",
       "  }\n",
       "  th {\n",
       "    text-align: left;\n",
       "  }\n",
       "</style><div class='table-result-container'><table class='table-result'><thead style='background-color: white'><tr><th>customer_id</th><th>email</th><th>street</th><th>city</th><th>state</th><th>country</th><th>fullName</th></tr></thead><tbody><tr><td>0</td><td>wesleyfuller@example.com</td><td>56370 White Harbor Suite 295</td><td>North Keith</td><td>Idaho</td><td>India</td><td>Jessica Meyer</td></tr><tr><td>1</td><td>aritra@example.net</td><td>192 Aguilar Alley</td><td>Stephaniehaven</td><td>Kolkata</td><td>Austria</td><td>Aritra Perry</td></tr><tr><td>2</td><td>zthomas@example.com</td><td>63075 Lee Knolls</td><td>South Glenn</td><td>Ohio</td><td>Slovenia</td><td>Mike Smith</td></tr><tr><td>3</td><td>qweber@example.net</td><td>8201 Martinez Springs Suite 705</td><td>Smithshire</td><td>Texas</td><td>Belize</td><td>Michael Holloway</td></tr><tr><td>4</td><td>pollardzachary@example.net</td><td>0188 Holly Brook Apt. 409</td><td>North Jeffreymouth</td><td>Montana</td><td>Paraguay</td><td>Dalton Gordon</td></tr><tr><td>5</td><td>yquinn@example.com</td><td>86472 Wilkerson Row</td><td>Douglasstad</td><td>Nebraska</td><td>Georgia</td><td>Joseph Johnson</td></tr><tr><td>6</td><td>qmcdonald@example.org</td><td>29526 Brett Drives</td><td>Evansstad</td><td>Tennessee</td><td>Portugal</td><td>Pamela Lewis</td></tr><tr><td>7</td><td>charles14@example.net</td><td>8871 Thompson Glen</td><td>Port Nichole</td><td>Pennsylvania</td><td>Chad</td><td>Tracy Lewis</td></tr><tr><td>8</td><td>blakesmith@example.org</td><td>714 Goodman Islands</td><td>Patriciatown</td><td>Montana</td><td>Guyana</td><td>Nathaniel Allen</td></tr><tr><td>9</td><td>matthewsoto@example.net</td><td>54303 Brown Terrace Suite 203</td><td>South Ryanhaven</td><td>California</td><td>Sao Tome and Principe</td><td>Linda Morales</td></tr><tr><td>10</td><td>gshelton@example.org</td><td>5226 Benjamin Gardens Suite 496</td><td>Rodriguezchester</td><td>Louisiana</td><td>United States Minor Outlying Islands</td><td>Jill Archer</td></tr><tr><td>11</td><td>lorihernandez@example.com</td><td>935 Ali Stream</td><td>Jonesfurt</td><td>Michigan</td><td>United States Virgin Islands</td><td>Anthony Nguyen</td></tr><tr><td>12</td><td>paige40@example.com</td><td>023 Jennifer Flat Suite 520</td><td>Nataliestad</td><td>North Dakota</td><td>Antigua and Barbuda</td><td>Tina Orozco</td></tr><tr><td>13</td><td>markdavis@example.net</td><td>7816 Pollard Plaza</td><td>Snyderton</td><td>Indiana</td><td>Montenegro</td><td>Derrick Hernandez</td></tr><tr><td>14</td><td>steve11@example.org</td><td>495 Fitzgerald Landing</td><td>Angelaport</td><td>Arizona</td><td>Argentina</td><td>Robert Bullock</td></tr><tr><td>15</td><td>jeremy31@example.net</td><td>6834 Davis Plain Apt. 773</td><td>West James</td><td>Nebraska</td><td>Pakistan</td><td>Joshua Strickland</td></tr><tr><td>16</td><td>stacybarrett@example.net</td><td>2012 Melissa Harbors Apt. 009</td><td>Thompsonshire</td><td>Montana</td><td>Oman</td><td>Laura Nash</td></tr><tr><td>17</td><td>stephaniehardin@example.net</td><td>418 David Shoals</td><td>Lutztown</td><td>Virginia</td><td>Kenya</td><td>James Hughes</td></tr><tr><td>18</td><td>hbird@example.net</td><td>60105 Perkins Trafficway</td><td>North Rebecca</td><td>Texas</td><td>Swaziland</td><td>William Carter</td></tr><tr><td>19</td><td>ellisvanessa@example.net</td><td>065 Heather Underpass Suite 383</td><td>New Dianachester</td><td>Massachusetts</td><td>Nicaragua</td><td>Lawrence Jackson</td></tr><tr><td>20</td><td>cwalls@example.net</td><td>415 Moore Street Apt. 715</td><td>Brandontown</td><td>Maryland</td><td>Canada</td><td>Marie Benson</td></tr></tbody></table></div>"
      ]
     },
     "metadata": {
      "application/vnd.databricks.v1+output": {
       "addedWidgets": {},
       "aggData": [],
       "aggError": "",
       "aggOverflow": false,
       "aggSchema": [],
       "aggSeriesLimitReached": false,
       "aggType": "",
       "arguments": {},
       "columnCustomDisplayInfos": {},
       "data": [
        [
         0,
         "wesleyfuller@example.com",
         "56370 White Harbor Suite 295",
         "North Keith",
         "Idaho",
         "India",
         "Jessica Meyer"
        ],
        [
         1,
         "aritra@example.net",
         "192 Aguilar Alley",
         "Stephaniehaven",
         "Kolkata",
         "Austria",
         "Aritra Perry"
        ],
        [
         2,
         "zthomas@example.com",
         "63075 Lee Knolls",
         "South Glenn",
         "Ohio",
         "Slovenia",
         "Mike Smith"
        ],
        [
         3,
         "qweber@example.net",
         "8201 Martinez Springs Suite 705",
         "Smithshire",
         "Texas",
         "Belize",
         "Michael Holloway"
        ],
        [
         4,
         "pollardzachary@example.net",
         "0188 Holly Brook Apt. 409",
         "North Jeffreymouth",
         "Montana",
         "Paraguay",
         "Dalton Gordon"
        ],
        [
         5,
         "yquinn@example.com",
         "86472 Wilkerson Row",
         "Douglasstad",
         "Nebraska",
         "Georgia",
         "Joseph Johnson"
        ],
        [
         6,
         "qmcdonald@example.org",
         "29526 Brett Drives",
         "Evansstad",
         "Tennessee",
         "Portugal",
         "Pamela Lewis"
        ],
        [
         7,
         "charles14@example.net",
         "8871 Thompson Glen",
         "Port Nichole",
         "Pennsylvania",
         "Chad",
         "Tracy Lewis"
        ],
        [
         8,
         "blakesmith@example.org",
         "714 Goodman Islands",
         "Patriciatown",
         "Montana",
         "Guyana",
         "Nathaniel Allen"
        ],
        [
         9,
         "matthewsoto@example.net",
         "54303 Brown Terrace Suite 203",
         "South Ryanhaven",
         "California",
         "Sao Tome and Principe",
         "Linda Morales"
        ],
        [
         10,
         "gshelton@example.org",
         "5226 Benjamin Gardens Suite 496",
         "Rodriguezchester",
         "Louisiana",
         "United States Minor Outlying Islands",
         "Jill Archer"
        ],
        [
         11,
         "lorihernandez@example.com",
         "935 Ali Stream",
         "Jonesfurt",
         "Michigan",
         "United States Virgin Islands",
         "Anthony Nguyen"
        ],
        [
         12,
         "paige40@example.com",
         "023 Jennifer Flat Suite 520",
         "Nataliestad",
         "North Dakota",
         "Antigua and Barbuda",
         "Tina Orozco"
        ],
        [
         13,
         "markdavis@example.net",
         "7816 Pollard Plaza",
         "Snyderton",
         "Indiana",
         "Montenegro",
         "Derrick Hernandez"
        ],
        [
         14,
         "steve11@example.org",
         "495 Fitzgerald Landing",
         "Angelaport",
         "Arizona",
         "Argentina",
         "Robert Bullock"
        ],
        [
         15,
         "jeremy31@example.net",
         "6834 Davis Plain Apt. 773",
         "West James",
         "Nebraska",
         "Pakistan",
         "Joshua Strickland"
        ],
        [
         16,
         "stacybarrett@example.net",
         "2012 Melissa Harbors Apt. 009",
         "Thompsonshire",
         "Montana",
         "Oman",
         "Laura Nash"
        ],
        [
         17,
         "stephaniehardin@example.net",
         "418 David Shoals",
         "Lutztown",
         "Virginia",
         "Kenya",
         "James Hughes"
        ],
        [
         18,
         "hbird@example.net",
         "60105 Perkins Trafficway",
         "North Rebecca",
         "Texas",
         "Swaziland",
         "William Carter"
        ],
        [
         19,
         "ellisvanessa@example.net",
         "065 Heather Underpass Suite 383",
         "New Dianachester",
         "Massachusetts",
         "Nicaragua",
         "Lawrence Jackson"
        ],
        [
         20,
         "cwalls@example.net",
         "415 Moore Street Apt. 715",
         "Brandontown",
         "Maryland",
         "Canada",
         "Marie Benson"
        ]
       ],
       "datasetInfos": [],
       "dbfsResultPath": null,
       "isJsonSchema": true,
       "metadata": {},
       "overflow": false,
       "plotOptions": {
        "customPlotOptions": {},
        "displayType": "table",
        "pivotAggregation": null,
        "pivotColumns": null,
        "xColumns": null,
        "yColumns": null
       },
       "removedWidgets": [],
       "schema": [
        {
         "metadata": "{}",
         "name": "customer_id",
         "type": "\"integer\""
        },
        {
         "metadata": "{}",
         "name": "email",
         "type": "\"string\""
        },
        {
         "metadata": "{}",
         "name": "street",
         "type": "\"string\""
        },
        {
         "metadata": "{}",
         "name": "city",
         "type": "\"string\""
        },
        {
         "metadata": "{}",
         "name": "state",
         "type": "\"string\""
        },
        {
         "metadata": "{}",
         "name": "country",
         "type": "\"string\""
        },
        {
         "metadata": "{}",
         "name": "fullName",
         "type": "\"string\""
        }
       ],
       "type": "table"
      }
     },
     "output_type": "display_data"
    }
   ],
   "source": [
    "df = df.withColumn(\"fullName\", concat_ws(' ', col(\"first_name\"), col(\"last_name\"))).drop(\"first_name\", \"last_name\")\n",
    "# df.display()"
   ]
  },
  {
   "cell_type": "markdown",
   "metadata": {
    "application/vnd.databricks.v1+cell": {
     "cellMetadata": {},
     "inputWidgets": {},
     "nuid": "1d1b1da0-029a-4455-b31f-c95255b321c8",
     "showTitle": false,
     "tableResultSettingsMap": {},
     "title": ""
    }
   },
   "source": [
    "## Customers"
   ]
  },
  {
   "cell_type": "code",
   "execution_count": 0,
   "metadata": {
    "application/vnd.databricks.v1+cell": {
     "cellMetadata": {
      "byteLimit": 2048000,
      "rowLimit": 10000
     },
     "inputWidgets": {},
     "nuid": "c8585fda-38af-4521-8641-420c47d7b423",
     "showTitle": false,
     "tableResultSettingsMap": {},
     "title": ""
    }
   },
   "outputs": [],
   "source": [
    "df.write.format(\"parquet\").mode(\"append\").option(\"path\", \"abfss://azure-project@awprojectadls.dfs.core.windows.net/to_process\").save()"
   ]
  }
 ],
 "metadata": {
  "application/vnd.databricks.v1+notebook": {
   "computePreferences": null,
   "dashboards": [],
   "environmentMetadata": {
    "base_environment": "",
    "client": "1"
   },
   "language": "python",
   "notebookMetadata": {
    "mostRecentlyExecutedCommandWithImplicitDF": {
     "commandId": 1116852813804511,
     "dataframes": [
      "_sqldf"
     ]
    },
    "pythonIndentUnit": 4
   },
   "notebookName": "silver_layer_code",
   "widgets": {}
  },
  "language_info": {
   "name": "python"
  }
 },
 "nbformat": 4,
 "nbformat_minor": 0
}
